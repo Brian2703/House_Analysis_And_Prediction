{
 "cells": [
  {
   "cell_type": "markdown",
   "id": "0f99a002",
   "metadata": {
    "papermill": {
     "duration": 0.009433,
     "end_time": "2024-05-06T15:58:58.458485",
     "exception": false,
     "start_time": "2024-05-06T15:58:58.449052",
     "status": "completed"
    },
    "tags": []
   },
   "source": [
    "#  DATA ANALYTICS AND PREDICTION OF NSW HOUSE PRICE"
   ]
  },
  {
   "cell_type": "markdown",
   "id": "983ea480",
   "metadata": {
    "papermill": {
     "duration": 0.00782,
     "end_time": "2024-05-06T15:58:58.475428",
     "exception": false,
     "start_time": "2024-05-06T15:58:58.467608",
     "status": "completed"
    },
    "tags": []
   },
   "source": [
    "**Project Owner: Brian Ong**\n",
    "Sydney, 7th May 2024"
   ]
  },
  {
   "cell_type": "markdown",
   "id": "240cc5e3",
   "metadata": {
    "papermill": {
     "duration": 0.007464,
     "end_time": "2024-05-06T15:58:58.490908",
     "exception": false,
     "start_time": "2024-05-06T15:58:58.483444",
     "status": "completed"
    },
    "tags": []
   },
   "source": [
    "I.\tIntroduction\n",
    "1.\tOverview of the Project:\n",
    "The primary purpose of the project is to analyze the housing market in order to provide the most suitable options for individuals interested in investing the real estate market. Additionally, it aims to identify the most affordable housing options and general insights for potential customers. However, due to the size and reliability of the dataset, all information and result provided is mainly used for practice purposes.\n",
    "Furthermore, the project involves making predictions for the housing market in the near future. These predictions are compared with other machine learning models to illustrate the most objective results. We aim to provide valuable guidance to individuals considering real estate investment, helping them make informed decisions based on current market trends and future predictions\n",
    "2.\tObjectives of the Project\n",
    "To address three primary questions:\n",
    "•\tHow has the house pricing market in NSW been evolving in recent years?\n",
    "•\tWhat is the relationship between each variable provided in the dataset?\n",
    "•\tHow do different machine learning models perform in predicting house prices, their effectiveness, and the current trends (as of 2022)?\n",
    "These questions will guide our analysis of the NSW housing market, its variables, and the comparison of machine learning models for predicting house prices."
   ]
  },
  {
   "cell_type": "markdown",
   "id": "b4c66021",
   "metadata": {
    "papermill": {
     "duration": 0.007949,
     "end_time": "2024-05-06T15:58:58.507031",
     "exception": false,
     "start_time": "2024-05-06T15:58:58.499082",
     "status": "completed"
    },
    "tags": []
   },
   "source": [
    "II.\tData Collection and Preprocessing\n",
    "1.\tData Source:\n",
    "\n",
    "    First Dataset: \n",
    "www.kaggle.com/datasets/alexlau203/sydney-house-prices\n",
    "    \n",
    "    Second Dataset: \n",
    "www.kaggle.com/datasets/karltse/sydney-suburbsreviews\n",
    "\n",
    "2.\tData Loading:"
   ]
  },
  {
   "cell_type": "code",
   "execution_count": 1,
   "id": "3f852c56",
   "metadata": {
    "execution": {
     "iopub.execute_input": "2024-05-06T15:58:58.526068Z",
     "iopub.status.busy": "2024-05-06T15:58:58.525449Z",
     "iopub.status.idle": "2024-05-06T15:59:02.458696Z",
     "shell.execute_reply": "2024-05-06T15:59:02.457159Z"
    },
    "papermill": {
     "duration": 3.946928,
     "end_time": "2024-05-06T15:59:02.462290",
     "exception": false,
     "start_time": "2024-05-06T15:58:58.515362",
     "status": "completed"
    },
    "tags": []
   },
   "outputs": [],
   "source": [
    "#IMPORTING LIBRARIES\n",
    "import numpy as np\n",
    "import pandas as pd\n",
    "import datetime as dt\n",
    "import statistics\n",
    "import math\n",
    "\n",
    "import seaborn as sns \n",
    "import plotly.graph_objects as go # map\n",
    "import plotly.express as px \n",
    "from plotly.subplots import make_subplots\n",
    "import matplotlib.pyplot as plt\n",
    "import matplotlib as mpl\n",
    "import matplotlib.axes as axes\n",
    "from matplotlib.ticker import ScalarFormatter\n",
    "from matplotlib.gridspec import GridSpec # multiple plots"
   ]
  },
  {
   "cell_type": "code",
   "execution_count": 2,
   "id": "27c8a1f7",
   "metadata": {
    "execution": {
     "iopub.execute_input": "2024-05-06T15:59:02.481193Z",
     "iopub.status.busy": "2024-05-06T15:59:02.480181Z",
     "iopub.status.idle": "2024-05-06T15:59:02.596713Z",
     "shell.execute_reply": "2024-05-06T15:59:02.595094Z"
    },
    "papermill": {
     "duration": 0.130165,
     "end_time": "2024-05-06T15:59:02.600681",
     "exception": false,
     "start_time": "2024-05-06T15:59:02.470516",
     "status": "completed"
    },
    "tags": []
   },
   "outputs": [
    {
     "data": {
      "text/html": [
       "<div>\n",
       "<style scoped>\n",
       "    .dataframe tbody tr th:only-of-type {\n",
       "        vertical-align: middle;\n",
       "    }\n",
       "\n",
       "    .dataframe tbody tr th {\n",
       "        vertical-align: top;\n",
       "    }\n",
       "\n",
       "    .dataframe thead th {\n",
       "        text-align: right;\n",
       "    }\n",
       "</style>\n",
       "<table border=\"1\" class=\"dataframe\">\n",
       "  <thead>\n",
       "    <tr style=\"text-align: right;\">\n",
       "      <th></th>\n",
       "      <th>price</th>\n",
       "      <th>date_sold</th>\n",
       "      <th>suburb</th>\n",
       "      <th>num_bath</th>\n",
       "      <th>num_bed</th>\n",
       "      <th>num_parking</th>\n",
       "      <th>property_size</th>\n",
       "      <th>type</th>\n",
       "      <th>suburb_population</th>\n",
       "      <th>suburb_median_income</th>\n",
       "      <th>suburb_sqkm</th>\n",
       "      <th>suburb_lat</th>\n",
       "      <th>suburb_lng</th>\n",
       "      <th>suburb_elevation</th>\n",
       "      <th>cash_rate</th>\n",
       "      <th>property_inflation_index</th>\n",
       "      <th>km_from_cbd</th>\n",
       "    </tr>\n",
       "  </thead>\n",
       "  <tbody>\n",
       "    <tr>\n",
       "      <th>0</th>\n",
       "      <td>530000</td>\n",
       "      <td>13/1/16</td>\n",
       "      <td>Kincumber</td>\n",
       "      <td>4</td>\n",
       "      <td>4</td>\n",
       "      <td>2</td>\n",
       "      <td>1351</td>\n",
       "      <td>House</td>\n",
       "      <td>7093</td>\n",
       "      <td>29432</td>\n",
       "      <td>9.914</td>\n",
       "      <td>-33.47252</td>\n",
       "      <td>151.40208</td>\n",
       "      <td>24</td>\n",
       "      <td>2.0</td>\n",
       "      <td>150.9</td>\n",
       "      <td>47.05</td>\n",
       "    </tr>\n",
       "    <tr>\n",
       "      <th>1</th>\n",
       "      <td>525000</td>\n",
       "      <td>13/1/16</td>\n",
       "      <td>Halekulani</td>\n",
       "      <td>2</td>\n",
       "      <td>4</td>\n",
       "      <td>2</td>\n",
       "      <td>594</td>\n",
       "      <td>House</td>\n",
       "      <td>2538</td>\n",
       "      <td>24752</td>\n",
       "      <td>1.397</td>\n",
       "      <td>-33.21772</td>\n",
       "      <td>151.55237</td>\n",
       "      <td>23</td>\n",
       "      <td>2.0</td>\n",
       "      <td>150.9</td>\n",
       "      <td>78.54</td>\n",
       "    </tr>\n",
       "    <tr>\n",
       "      <th>2</th>\n",
       "      <td>480000</td>\n",
       "      <td>13/1/16</td>\n",
       "      <td>Chittaway Bay</td>\n",
       "      <td>2</td>\n",
       "      <td>4</td>\n",
       "      <td>2</td>\n",
       "      <td>468</td>\n",
       "      <td>House</td>\n",
       "      <td>2028</td>\n",
       "      <td>31668</td>\n",
       "      <td>1.116</td>\n",
       "      <td>-33.32678</td>\n",
       "      <td>151.44557</td>\n",
       "      <td>3</td>\n",
       "      <td>2.0</td>\n",
       "      <td>150.9</td>\n",
       "      <td>63.59</td>\n",
       "    </tr>\n",
       "    <tr>\n",
       "      <th>3</th>\n",
       "      <td>452000</td>\n",
       "      <td>13/1/16</td>\n",
       "      <td>Leumeah</td>\n",
       "      <td>1</td>\n",
       "      <td>3</td>\n",
       "      <td>1</td>\n",
       "      <td>344</td>\n",
       "      <td>House</td>\n",
       "      <td>9835</td>\n",
       "      <td>32292</td>\n",
       "      <td>4.055</td>\n",
       "      <td>-34.05375</td>\n",
       "      <td>150.83957</td>\n",
       "      <td>81</td>\n",
       "      <td>2.0</td>\n",
       "      <td>150.9</td>\n",
       "      <td>40.12</td>\n",
       "    </tr>\n",
       "    <tr>\n",
       "      <th>4</th>\n",
       "      <td>365500</td>\n",
       "      <td>13/1/16</td>\n",
       "      <td>North Avoca</td>\n",
       "      <td>0</td>\n",
       "      <td>0</td>\n",
       "      <td>0</td>\n",
       "      <td>1850</td>\n",
       "      <td>Vacant land</td>\n",
       "      <td>2200</td>\n",
       "      <td>45084</td>\n",
       "      <td>1.497</td>\n",
       "      <td>-33.45608</td>\n",
       "      <td>151.43598</td>\n",
       "      <td>18</td>\n",
       "      <td>2.0</td>\n",
       "      <td>150.9</td>\n",
       "      <td>49.98</td>\n",
       "    </tr>\n",
       "  </tbody>\n",
       "</table>\n",
       "</div>"
      ],
      "text/plain": [
       "    price date_sold         suburb  num_bath  num_bed  num_parking  \\\n",
       "0  530000   13/1/16      Kincumber         4        4            2   \n",
       "1  525000   13/1/16     Halekulani         2        4            2   \n",
       "2  480000   13/1/16  Chittaway Bay         2        4            2   \n",
       "3  452000   13/1/16        Leumeah         1        3            1   \n",
       "4  365500   13/1/16    North Avoca         0        0            0   \n",
       "\n",
       "   property_size         type  suburb_population  suburb_median_income  \\\n",
       "0           1351        House               7093                 29432   \n",
       "1            594        House               2538                 24752   \n",
       "2            468        House               2028                 31668   \n",
       "3            344        House               9835                 32292   \n",
       "4           1850  Vacant land               2200                 45084   \n",
       "\n",
       "   suburb_sqkm  suburb_lat  suburb_lng  suburb_elevation  cash_rate  \\\n",
       "0        9.914   -33.47252   151.40208                24        2.0   \n",
       "1        1.397   -33.21772   151.55237                23        2.0   \n",
       "2        1.116   -33.32678   151.44557                 3        2.0   \n",
       "3        4.055   -34.05375   150.83957                81        2.0   \n",
       "4        1.497   -33.45608   151.43598                18        2.0   \n",
       "\n",
       "   property_inflation_index  km_from_cbd  \n",
       "0                     150.9        47.05  \n",
       "1                     150.9        78.54  \n",
       "2                     150.9        63.59  \n",
       "3                     150.9        40.12  \n",
       "4                     150.9        49.98  "
      ]
     },
     "execution_count": 2,
     "metadata": {},
     "output_type": "execute_result"
    }
   ],
   "source": [
    "# LOADING DATA\n",
    "dataset1=pd.read_csv('/kaggle/input/sydney-house-prices/domain_properties.csv')\n",
    "domain_df=dataset1.copy()\n",
    "domain_df.head(5)"
   ]
  },
  {
   "cell_type": "code",
   "execution_count": 3,
   "id": "15565538",
   "metadata": {
    "execution": {
     "iopub.execute_input": "2024-05-06T15:59:02.623254Z",
     "iopub.status.busy": "2024-05-06T15:59:02.622510Z",
     "iopub.status.idle": "2024-05-06T15:59:02.631493Z",
     "shell.execute_reply": "2024-05-06T15:59:02.630119Z"
    },
    "papermill": {
     "duration": 0.023757,
     "end_time": "2024-05-06T15:59:02.634308",
     "exception": false,
     "start_time": "2024-05-06T15:59:02.610551",
     "status": "completed"
    },
    "tags": []
   },
   "outputs": [
    {
     "data": {
      "text/plain": [
       "(11160, 17)"
      ]
     },
     "execution_count": 3,
     "metadata": {},
     "output_type": "execute_result"
    }
   ],
   "source": [
    "domain_df.shape"
   ]
  },
  {
   "cell_type": "markdown",
   "id": "243ae5a1",
   "metadata": {
    "papermill": {
     "duration": 0.008187,
     "end_time": "2024-05-06T15:59:02.651448",
     "exception": false,
     "start_time": "2024-05-06T15:59:02.643261",
     "status": "completed"
    },
    "tags": []
   },
   "source": [
    "3.\tData Cleaning:"
   ]
  },
  {
   "cell_type": "code",
   "execution_count": 4,
   "id": "c9353e36",
   "metadata": {
    "execution": {
     "iopub.execute_input": "2024-05-06T15:59:02.670143Z",
     "iopub.status.busy": "2024-05-06T15:59:02.669350Z",
     "iopub.status.idle": "2024-05-06T15:59:02.714607Z",
     "shell.execute_reply": "2024-05-06T15:59:02.713224Z"
    },
    "papermill": {
     "duration": 0.057759,
     "end_time": "2024-05-06T15:59:02.717470",
     "exception": false,
     "start_time": "2024-05-06T15:59:02.659711",
     "status": "completed"
    },
    "tags": []
   },
   "outputs": [
    {
     "data": {
      "text/plain": [
       "price                       0\n",
       "date_sold                   0\n",
       "suburb                      0\n",
       "num_bath                    0\n",
       "num_bed                     0\n",
       "num_parking                 0\n",
       "property_size               0\n",
       "type                        0\n",
       "suburb_population           0\n",
       "suburb_median_income        0\n",
       "suburb_sqkm                 0\n",
       "suburb_lat                  0\n",
       "suburb_lng                  0\n",
       "suburb_elevation            0\n",
       "cash_rate                   0\n",
       "property_inflation_index    0\n",
       "km_from_cbd                 0\n",
       "dtype: int64"
      ]
     },
     "execution_count": 4,
     "metadata": {},
     "output_type": "execute_result"
    }
   ],
   "source": [
    "# CHECK DUPLICATE AND NULL DATA\n",
    "domain_df.drop_duplicates()\n",
    "domain_df.replace([np.inf, -np.inf], np.nan, inplace=True)\n",
    "domain_df.isna().sum()"
   ]
  },
  {
   "cell_type": "markdown",
   "id": "935b6e81",
   "metadata": {
    "papermill": {
     "duration": 0.009537,
     "end_time": "2024-05-06T15:59:02.735256",
     "exception": false,
     "start_time": "2024-05-06T15:59:02.725719",
     "status": "completed"
    },
    "tags": []
   },
   "source": [
    "4.\tData Exploration:"
   ]
  },
  {
   "cell_type": "code",
   "execution_count": 5,
   "id": "2450f069",
   "metadata": {
    "execution": {
     "iopub.execute_input": "2024-05-06T15:59:02.753892Z",
     "iopub.status.busy": "2024-05-06T15:59:02.753427Z",
     "iopub.status.idle": "2024-05-06T15:59:02.782331Z",
     "shell.execute_reply": "2024-05-06T15:59:02.780894Z"
    },
    "papermill": {
     "duration": 0.041701,
     "end_time": "2024-05-06T15:59:02.785199",
     "exception": false,
     "start_time": "2024-05-06T15:59:02.743498",
     "status": "completed"
    },
    "tags": []
   },
   "outputs": [
    {
     "name": "stdout",
     "output_type": "stream",
     "text": [
      "<class 'pandas.core.frame.DataFrame'>\n",
      "RangeIndex: 11160 entries, 0 to 11159\n",
      "Data columns (total 17 columns):\n",
      " #   Column                    Non-Null Count  Dtype  \n",
      "---  ------                    --------------  -----  \n",
      " 0   price                     11160 non-null  int64  \n",
      " 1   date_sold                 11160 non-null  object \n",
      " 2   suburb                    11160 non-null  object \n",
      " 3   num_bath                  11160 non-null  int64  \n",
      " 4   num_bed                   11160 non-null  int64  \n",
      " 5   num_parking               11160 non-null  int64  \n",
      " 6   property_size             11160 non-null  int64  \n",
      " 7   type                      11160 non-null  object \n",
      " 8   suburb_population         11160 non-null  int64  \n",
      " 9   suburb_median_income      11160 non-null  int64  \n",
      " 10  suburb_sqkm               11160 non-null  float64\n",
      " 11  suburb_lat                11160 non-null  float64\n",
      " 12  suburb_lng                11160 non-null  float64\n",
      " 13  suburb_elevation          11160 non-null  int64  \n",
      " 14  cash_rate                 11160 non-null  float64\n",
      " 15  property_inflation_index  11160 non-null  float64\n",
      " 16  km_from_cbd               11160 non-null  float64\n",
      "dtypes: float64(6), int64(8), object(3)\n",
      "memory usage: 1.4+ MB\n"
     ]
    }
   ],
   "source": [
    "#EXPLORING FEATURE\n",
    "domain_df.info()"
   ]
  },
  {
   "cell_type": "markdown",
   "id": "bd323af1",
   "metadata": {
    "papermill": {
     "duration": 0.008021,
     "end_time": "2024-05-06T15:59:02.802106",
     "exception": false,
     "start_time": "2024-05-06T15:59:02.794085",
     "status": "completed"
    },
    "tags": []
   },
   "source": [
    "1. **Price**: Price of the house. Data type: `int64`.\n",
    "\n",
    "2. **Date Sold**: Date when the house was sold. Data type: `object`.\n",
    "\n",
    "3. **Suburb**: Suburb where the house is located. Data type: `object`.\n",
    "\n",
    "4. **Number of Bathrooms**: Number of bathrooms in the house. Data type: `int64`.\n",
    "\n",
    "5. **Number of Bedrooms**: Number of bedrooms in the house. Data type: `int64`.\n",
    "\n",
    "6. **Number of Parking Spaces**: Number of parking spaces associated with the house. Data type: `int64`.\n",
    "\n",
    "7. **Property Size**: Size of the property in square meters. Data type: `int64`.\n",
    "\n",
    "8. **Type**: Type of the property (e.g., house, apartment). Data type: `object`.\n",
    "\n",
    "9. **Suburb Population**: Population of the suburb where the house is located. Data type: `int64`.\n",
    "\n",
    "10. **Suburb Median Income**: Median income of residents in the suburb. Data type: `int64`.\n",
    "\n",
    "11. **Suburb Area (Square Kilometers)**: Area of the suburb in square kilometers. Data type: `float64`.\n",
    "\n",
    "12. **Suburb Latitude**: Latitude coordinate of the suburb. Data type: `float64`.\n",
    "\n",
    "13. **Suburb Longitude**: Longitude coordinate of the suburb. Data type: `float64`.\n",
    "\n",
    "14. **Suburb Elevation**: Elevation of the suburb. Data type: `int64`.\n",
    "\n",
    "15. **Cash Rate**: Cash rate, representing the interest rate set by the Reserve Bank of Australia. Data type: `float64`.\n",
    "\n",
    "16. **Property Inflation Index**: Index representing inflation in property prices. Data type: `float64`.\n",
    "\n",
    "17. **Distance from CBD (Kilometers)**: Distance from the Central Business District (CBD) in kilometers. Data type: `float64`.\n"
   ]
  },
  {
   "cell_type": "code",
   "execution_count": 6,
   "id": "7940e026",
   "metadata": {
    "execution": {
     "iopub.execute_input": "2024-05-06T15:59:02.820779Z",
     "iopub.status.busy": "2024-05-06T15:59:02.820147Z",
     "iopub.status.idle": "2024-05-06T15:59:02.941990Z",
     "shell.execute_reply": "2024-05-06T15:59:02.939967Z"
    },
    "papermill": {
     "duration": 0.134413,
     "end_time": "2024-05-06T15:59:02.944750",
     "exception": false,
     "start_time": "2024-05-06T15:59:02.810337",
     "status": "completed"
    },
    "tags": []
   },
   "outputs": [
    {
     "name": "stderr",
     "output_type": "stream",
     "text": [
      "/tmp/ipykernel_18/737617137.py:2: UserWarning: Could not infer format, so each element will be parsed individually, falling back to `dateutil`. To ensure parsing is consistent and as-expected, please specify a format.\n",
      "  domain_df['date_sold']=pd.to_datetime(domain_df['date_sold'])\n"
     ]
    }
   ],
   "source": [
    "# DATA CONVERTION\n",
    "domain_df['date_sold']=pd.to_datetime(domain_df['date_sold'])\n",
    "domain_df['type'] = domain_df['type'].astype('category')"
   ]
  },
  {
   "cell_type": "code",
   "execution_count": 7,
   "id": "98ab4d22",
   "metadata": {
    "execution": {
     "iopub.execute_input": "2024-05-06T15:59:02.973219Z",
     "iopub.status.busy": "2024-05-06T15:59:02.972280Z",
     "iopub.status.idle": "2024-05-06T15:59:02.986265Z",
     "shell.execute_reply": "2024-05-06T15:59:02.985268Z"
    },
    "papermill": {
     "duration": 0.03164,
     "end_time": "2024-05-06T15:59:02.989557",
     "exception": false,
     "start_time": "2024-05-06T15:59:02.957917",
     "status": "completed"
    },
    "tags": []
   },
   "outputs": [],
   "source": [
    "# FEATURE ENGINEERING\n",
    "domain_df['price_per_square']=round((domain_df['price']/domain_df['property_size']),1)\n",
    "domain_df['suburb_income_per_m2']=round((domain_df['suburb_median_income']/(domain_df['suburb_sqkm']*1000)),1)\n",
    "domain_df['price_k']=round(domain_df['price']/1000,3)\n",
    "domain_df['year_sold']=domain_df['date_sold'].dt.year"
   ]
  },
  {
   "cell_type": "markdown",
   "id": "10eaff30",
   "metadata": {
    "papermill": {
     "duration": 0.010823,
     "end_time": "2024-05-06T15:59:03.015189",
     "exception": false,
     "start_time": "2024-05-06T15:59:03.004366",
     "status": "completed"
    },
    "tags": []
   },
   "source": [
    "III.\tExploratory Data Analysis (EDA)\n",
    "1. Summary Statistic"
   ]
  },
  {
   "cell_type": "code",
   "execution_count": 8,
   "id": "f240965b",
   "metadata": {
    "execution": {
     "iopub.execute_input": "2024-05-06T15:59:03.035524Z",
     "iopub.status.busy": "2024-05-06T15:59:03.035103Z",
     "iopub.status.idle": "2024-05-06T15:59:03.126315Z",
     "shell.execute_reply": "2024-05-06T15:59:03.124729Z"
    },
    "papermill": {
     "duration": 0.105131,
     "end_time": "2024-05-06T15:59:03.129963",
     "exception": false,
     "start_time": "2024-05-06T15:59:03.024832",
     "status": "completed"
    },
    "tags": []
   },
   "outputs": [
    {
     "data": {
      "text/html": [
       "<div>\n",
       "<style scoped>\n",
       "    .dataframe tbody tr th:only-of-type {\n",
       "        vertical-align: middle;\n",
       "    }\n",
       "\n",
       "    .dataframe tbody tr th {\n",
       "        vertical-align: top;\n",
       "    }\n",
       "\n",
       "    .dataframe thead th {\n",
       "        text-align: right;\n",
       "    }\n",
       "</style>\n",
       "<table border=\"1\" class=\"dataframe\">\n",
       "  <thead>\n",
       "    <tr style=\"text-align: right;\">\n",
       "      <th></th>\n",
       "      <th>price</th>\n",
       "      <th>date_sold</th>\n",
       "      <th>num_bath</th>\n",
       "      <th>num_bed</th>\n",
       "      <th>num_parking</th>\n",
       "      <th>property_size</th>\n",
       "      <th>suburb_population</th>\n",
       "      <th>suburb_median_income</th>\n",
       "      <th>suburb_sqkm</th>\n",
       "      <th>suburb_lat</th>\n",
       "      <th>suburb_lng</th>\n",
       "      <th>suburb_elevation</th>\n",
       "      <th>cash_rate</th>\n",
       "      <th>property_inflation_index</th>\n",
       "      <th>km_from_cbd</th>\n",
       "      <th>price_per_square</th>\n",
       "      <th>suburb_income_per_m2</th>\n",
       "      <th>price_k</th>\n",
       "      <th>year_sold</th>\n",
       "    </tr>\n",
       "  </thead>\n",
       "  <tbody>\n",
       "    <tr>\n",
       "      <th>count</th>\n",
       "      <td>1.116000e+04</td>\n",
       "      <td>11160</td>\n",
       "      <td>11160.000000</td>\n",
       "      <td>11160.000000</td>\n",
       "      <td>11160.000000</td>\n",
       "      <td>11160.000000</td>\n",
       "      <td>11160.000000</td>\n",
       "      <td>11160.000000</td>\n",
       "      <td>11160.000000</td>\n",
       "      <td>11160.000000</td>\n",
       "      <td>11160.000000</td>\n",
       "      <td>11160.000000</td>\n",
       "      <td>11160.000000</td>\n",
       "      <td>11160.000000</td>\n",
       "      <td>11160.000000</td>\n",
       "      <td>11160.000000</td>\n",
       "      <td>11160.000000</td>\n",
       "      <td>11160.000000</td>\n",
       "      <td>11160.000000</td>\n",
       "    </tr>\n",
       "    <tr>\n",
       "      <th>mean</th>\n",
       "      <td>1.675395e+06</td>\n",
       "      <td>2020-02-28 10:06:42.580645120</td>\n",
       "      <td>2.073566</td>\n",
       "      <td>3.758961</td>\n",
       "      <td>2.017473</td>\n",
       "      <td>723.012366</td>\n",
       "      <td>9311.560036</td>\n",
       "      <td>40168.243369</td>\n",
       "      <td>5.054877</td>\n",
       "      <td>-33.781413</td>\n",
       "      <td>151.096676</td>\n",
       "      <td>55.606720</td>\n",
       "      <td>0.631361</td>\n",
       "      <td>188.489686</td>\n",
       "      <td>27.381826</td>\n",
       "      <td>3729.221944</td>\n",
       "      <td>22.407267</td>\n",
       "      <td>1675.395267</td>\n",
       "      <td>2019.555108</td>\n",
       "    </tr>\n",
       "    <tr>\n",
       "      <th>min</th>\n",
       "      <td>2.250000e+05</td>\n",
       "      <td>2016-01-11 00:00:00</td>\n",
       "      <td>0.000000</td>\n",
       "      <td>0.000000</td>\n",
       "      <td>0.000000</td>\n",
       "      <td>7.000000</td>\n",
       "      <td>22.000000</td>\n",
       "      <td>14248.000000</td>\n",
       "      <td>0.089000</td>\n",
       "      <td>-34.106240</td>\n",
       "      <td>150.553840</td>\n",
       "      <td>0.000000</td>\n",
       "      <td>0.100000</td>\n",
       "      <td>150.900000</td>\n",
       "      <td>0.310000</td>\n",
       "      <td>16.200000</td>\n",
       "      <td>0.400000</td>\n",
       "      <td>225.000000</td>\n",
       "      <td>2016.000000</td>\n",
       "    </tr>\n",
       "    <tr>\n",
       "      <th>25%</th>\n",
       "      <td>1.002000e+06</td>\n",
       "      <td>2018-09-26 00:00:00</td>\n",
       "      <td>1.000000</td>\n",
       "      <td>3.000000</td>\n",
       "      <td>1.000000</td>\n",
       "      <td>430.000000</td>\n",
       "      <td>3977.000000</td>\n",
       "      <td>32448.000000</td>\n",
       "      <td>1.776000</td>\n",
       "      <td>-33.921480</td>\n",
       "      <td>150.951020</td>\n",
       "      <td>21.000000</td>\n",
       "      <td>0.100000</td>\n",
       "      <td>167.600000</td>\n",
       "      <td>12.960000</td>\n",
       "      <td>1519.800000</td>\n",
       "      <td>5.400000</td>\n",
       "      <td>1002.000000</td>\n",
       "      <td>2018.000000</td>\n",
       "    </tr>\n",
       "    <tr>\n",
       "      <th>50%</th>\n",
       "      <td>1.388000e+06</td>\n",
       "      <td>2020-11-20 00:00:00</td>\n",
       "      <td>2.000000</td>\n",
       "      <td>4.000000</td>\n",
       "      <td>2.000000</td>\n",
       "      <td>600.000000</td>\n",
       "      <td>7457.000000</td>\n",
       "      <td>39104.000000</td>\n",
       "      <td>3.566000</td>\n",
       "      <td>-33.809180</td>\n",
       "      <td>151.109470</td>\n",
       "      <td>40.000000</td>\n",
       "      <td>0.110000</td>\n",
       "      <td>176.600000</td>\n",
       "      <td>22.310000</td>\n",
       "      <td>2377.250000</td>\n",
       "      <td>10.600000</td>\n",
       "      <td>1388.000000</td>\n",
       "      <td>2020.000000</td>\n",
       "    </tr>\n",
       "    <tr>\n",
       "      <th>75%</th>\n",
       "      <td>2.020000e+06</td>\n",
       "      <td>2021-09-23 00:00:00</td>\n",
       "      <td>3.000000</td>\n",
       "      <td>4.000000</td>\n",
       "      <td>2.000000</td>\n",
       "      <td>765.000000</td>\n",
       "      <td>12158.250000</td>\n",
       "      <td>45552.000000</td>\n",
       "      <td>6.568000</td>\n",
       "      <td>-33.715510</td>\n",
       "      <td>151.227810</td>\n",
       "      <td>75.000000</td>\n",
       "      <td>1.500000</td>\n",
       "      <td>220.100000</td>\n",
       "      <td>40.990000</td>\n",
       "      <td>4100.500000</td>\n",
       "      <td>22.525000</td>\n",
       "      <td>2020.000000</td>\n",
       "      <td>2021.000000</td>\n",
       "    </tr>\n",
       "    <tr>\n",
       "      <th>max</th>\n",
       "      <td>6.000000e+07</td>\n",
       "      <td>2022-01-01 00:00:00</td>\n",
       "      <td>46.000000</td>\n",
       "      <td>47.000000</td>\n",
       "      <td>50.000000</td>\n",
       "      <td>59100.000000</td>\n",
       "      <td>47176.000000</td>\n",
       "      <td>97500.000000</td>\n",
       "      <td>87.154000</td>\n",
       "      <td>-33.163760</td>\n",
       "      <td>151.573300</td>\n",
       "      <td>405.000000</td>\n",
       "      <td>2.000000</td>\n",
       "      <td>220.100000</td>\n",
       "      <td>84.790000</td>\n",
       "      <td>175000.000000</td>\n",
       "      <td>442.300000</td>\n",
       "      <td>60000.000000</td>\n",
       "      <td>2022.000000</td>\n",
       "    </tr>\n",
       "    <tr>\n",
       "      <th>std</th>\n",
       "      <td>1.290371e+06</td>\n",
       "      <td>NaN</td>\n",
       "      <td>1.184881</td>\n",
       "      <td>1.559743</td>\n",
       "      <td>1.454560</td>\n",
       "      <td>1048.983662</td>\n",
       "      <td>7541.636246</td>\n",
       "      <td>11089.955120</td>\n",
       "      <td>5.824663</td>\n",
       "      <td>0.202478</td>\n",
       "      <td>0.213456</td>\n",
       "      <td>52.802315</td>\n",
       "      <td>0.658624</td>\n",
       "      <td>24.441552</td>\n",
       "      <td>18.470113</td>\n",
       "      <td>4446.024989</td>\n",
       "      <td>36.332469</td>\n",
       "      <td>1290.370963</td>\n",
       "      <td>1.740492</td>\n",
       "    </tr>\n",
       "  </tbody>\n",
       "</table>\n",
       "</div>"
      ],
      "text/plain": [
       "              price                      date_sold      num_bath  \\\n",
       "count  1.116000e+04                          11160  11160.000000   \n",
       "mean   1.675395e+06  2020-02-28 10:06:42.580645120      2.073566   \n",
       "min    2.250000e+05            2016-01-11 00:00:00      0.000000   \n",
       "25%    1.002000e+06            2018-09-26 00:00:00      1.000000   \n",
       "50%    1.388000e+06            2020-11-20 00:00:00      2.000000   \n",
       "75%    2.020000e+06            2021-09-23 00:00:00      3.000000   \n",
       "max    6.000000e+07            2022-01-01 00:00:00     46.000000   \n",
       "std    1.290371e+06                            NaN      1.184881   \n",
       "\n",
       "            num_bed   num_parking  property_size  suburb_population  \\\n",
       "count  11160.000000  11160.000000   11160.000000       11160.000000   \n",
       "mean       3.758961      2.017473     723.012366        9311.560036   \n",
       "min        0.000000      0.000000       7.000000          22.000000   \n",
       "25%        3.000000      1.000000     430.000000        3977.000000   \n",
       "50%        4.000000      2.000000     600.000000        7457.000000   \n",
       "75%        4.000000      2.000000     765.000000       12158.250000   \n",
       "max       47.000000     50.000000   59100.000000       47176.000000   \n",
       "std        1.559743      1.454560    1048.983662        7541.636246   \n",
       "\n",
       "       suburb_median_income   suburb_sqkm    suburb_lat    suburb_lng  \\\n",
       "count          11160.000000  11160.000000  11160.000000  11160.000000   \n",
       "mean           40168.243369      5.054877    -33.781413    151.096676   \n",
       "min            14248.000000      0.089000    -34.106240    150.553840   \n",
       "25%            32448.000000      1.776000    -33.921480    150.951020   \n",
       "50%            39104.000000      3.566000    -33.809180    151.109470   \n",
       "75%            45552.000000      6.568000    -33.715510    151.227810   \n",
       "max            97500.000000     87.154000    -33.163760    151.573300   \n",
       "std            11089.955120      5.824663      0.202478      0.213456   \n",
       "\n",
       "       suburb_elevation     cash_rate  property_inflation_index   km_from_cbd  \\\n",
       "count      11160.000000  11160.000000              11160.000000  11160.000000   \n",
       "mean          55.606720      0.631361                188.489686     27.381826   \n",
       "min            0.000000      0.100000                150.900000      0.310000   \n",
       "25%           21.000000      0.100000                167.600000     12.960000   \n",
       "50%           40.000000      0.110000                176.600000     22.310000   \n",
       "75%           75.000000      1.500000                220.100000     40.990000   \n",
       "max          405.000000      2.000000                220.100000     84.790000   \n",
       "std           52.802315      0.658624                 24.441552     18.470113   \n",
       "\n",
       "       price_per_square  suburb_income_per_m2       price_k     year_sold  \n",
       "count      11160.000000          11160.000000  11160.000000  11160.000000  \n",
       "mean        3729.221944             22.407267   1675.395267   2019.555108  \n",
       "min           16.200000              0.400000    225.000000   2016.000000  \n",
       "25%         1519.800000              5.400000   1002.000000   2018.000000  \n",
       "50%         2377.250000             10.600000   1388.000000   2020.000000  \n",
       "75%         4100.500000             22.525000   2020.000000   2021.000000  \n",
       "max       175000.000000            442.300000  60000.000000   2022.000000  \n",
       "std         4446.024989             36.332469   1290.370963      1.740492  "
      ]
     },
     "execution_count": 8,
     "metadata": {},
     "output_type": "execute_result"
    }
   ],
   "source": [
    "domain_df.describe()"
   ]
  },
  {
   "cell_type": "code",
   "execution_count": 9,
   "id": "cafc7e00",
   "metadata": {
    "execution": {
     "iopub.execute_input": "2024-05-06T15:59:03.152622Z",
     "iopub.status.busy": "2024-05-06T15:59:03.151328Z",
     "iopub.status.idle": "2024-05-06T15:59:03.173195Z",
     "shell.execute_reply": "2024-05-06T15:59:03.171742Z"
    },
    "papermill": {
     "duration": 0.037015,
     "end_time": "2024-05-06T15:59:03.176599",
     "exception": false,
     "start_time": "2024-05-06T15:59:03.139584",
     "status": "completed"
    },
    "tags": []
   },
   "outputs": [
    {
     "name": "stdout",
     "output_type": "stream",
     "text": [
      "Domain Data before checking outlier with vancant land:  11160\n",
      "Domain Data not vacant land but all data of living spaces equal zero:  13\n",
      "Domain Data after checking outlier with vancant land:  11147\n"
     ]
    }
   ],
   "source": [
    "#HANDLING OUTLIER\n",
    "\n",
    "#Check domain df of outlier, if its size small and if remove it improve quality of data, remove it!\n",
    "print('Domain Data before checking outlier with vancant land: ',domain_df.shape[0])\n",
    "domain_df_error=domain_df[(domain_df['type']!='Vacant land')&(domain_df['num_bath']==0)&(domain_df['num_bed']==0)&(domain_df['num_parking']==0)]\n",
    "print('Domain Data not vacant land but all data of living spaces equal zero: ',domain_df_error.shape[0])\n",
    "\n",
    "#Just 13 rows of outlier data\n",
    "domain_df=domain_df.drop(domain_df_error.index,axis=0)\n",
    "print('Domain Data after checking outlier with vancant land: ',domain_df.shape[0])"
   ]
  },
  {
   "cell_type": "code",
   "execution_count": 10,
   "id": "34c44073",
   "metadata": {
    "execution": {
     "iopub.execute_input": "2024-05-06T15:59:03.202981Z",
     "iopub.status.busy": "2024-05-06T15:59:03.202394Z",
     "iopub.status.idle": "2024-05-06T15:59:03.217200Z",
     "shell.execute_reply": "2024-05-06T15:59:03.215504Z"
    },
    "papermill": {
     "duration": 0.033525,
     "end_time": "2024-05-06T15:59:03.220864",
     "exception": false,
     "start_time": "2024-05-06T15:59:03.187339",
     "status": "completed"
    },
    "tags": []
   },
   "outputs": [
    {
     "name": "stdout",
     "output_type": "stream",
     "text": [
      "Domain Data before checking outlier with vancant land:  11147\n",
      "Vancant land with number of bed, bath, parking greater than zero:  9\n",
      "Domain Data before checking outlier with vancant land:  11138\n"
     ]
    }
   ],
   "source": [
    "# Second, we start with the vacant_land but the num of living spaces is greater or equal 1, list it in a new data frame\n",
    "print('Domain Data before checking outlier with vancant land: ',domain_df.shape[0])\n",
    "vacant_land_category_error=domain_df[((domain_df['num_bath']>0) | (domain_df['num_bed']>0) | (domain_df['num_parking']>0)) &(domain_df['type']=='Vacant land')]\n",
    "print('Vancant land with number of bed, bath, parking greater than zero: ',vacant_land_category_error.shape[0])\n",
    "\n",
    "#Remove it!\n",
    "domain_df=domain_df.drop(vacant_land_category_error.index,axis=0)\n",
    "print('Domain Data before checking outlier with vancant land: ',domain_df.shape[0])"
   ]
  },
  {
   "cell_type": "code",
   "execution_count": 11,
   "id": "0097788d",
   "metadata": {
    "execution": {
     "iopub.execute_input": "2024-05-06T15:59:03.245781Z",
     "iopub.status.busy": "2024-05-06T15:59:03.245226Z",
     "iopub.status.idle": "2024-05-06T15:59:03.255936Z",
     "shell.execute_reply": "2024-05-06T15:59:03.254688Z"
    },
    "papermill": {
     "duration": 0.030731,
     "end_time": "2024-05-06T15:59:03.262137",
     "exception": false,
     "start_time": "2024-05-06T15:59:03.231406",
     "status": "completed"
    },
    "tags": []
   },
   "outputs": [],
   "source": [
    "vacant_land_category=domain_df[domain_df['type']=='Vacant land']\n",
    "house_category=domain_df[domain_df['type']!='Vacant land']"
   ]
  },
  {
   "cell_type": "code",
   "execution_count": 12,
   "id": "1ab1c527",
   "metadata": {
    "execution": {
     "iopub.execute_input": "2024-05-06T15:59:03.284321Z",
     "iopub.status.busy": "2024-05-06T15:59:03.283943Z",
     "iopub.status.idle": "2024-05-06T15:59:03.590424Z",
     "shell.execute_reply": "2024-05-06T15:59:03.589326Z"
    },
    "papermill": {
     "duration": 0.320831,
     "end_time": "2024-05-06T15:59:03.593386",
     "exception": false,
     "start_time": "2024-05-06T15:59:03.272555",
     "status": "completed"
    },
    "tags": []
   },
   "outputs": [
    {
     "data": {
      "image/png": "[encoded data removed]",
      "text/plain": [
       "<Figure size 640x480 with 1 Axes>"
      ]
     },
     "metadata": {},
     "output_type": "display_data"
    },
    {
     "data": {
      "text/html": [
       "<div>\n",
       "<style scoped>\n",
       "    .dataframe tbody tr th:only-of-type {\n",
       "        vertical-align: middle;\n",
       "    }\n",
       "\n",
       "    .dataframe tbody tr th {\n",
       "        vertical-align: top;\n",
       "    }\n",
       "\n",
       "    .dataframe thead th {\n",
       "        text-align: right;\n",
       "    }\n",
       "</style>\n",
       "<table border=\"1\" class=\"dataframe\">\n",
       "  <thead>\n",
       "    <tr style=\"text-align: right;\">\n",
       "      <th></th>\n",
       "      <th>price</th>\n",
       "      <th>date_sold</th>\n",
       "      <th>suburb</th>\n",
       "      <th>num_bath</th>\n",
       "      <th>num_bed</th>\n",
       "      <th>num_parking</th>\n",
       "      <th>property_size</th>\n",
       "      <th>type</th>\n",
       "      <th>suburb_population</th>\n",
       "      <th>suburb_median_income</th>\n",
       "      <th>...</th>\n",
       "      <th>suburb_lat</th>\n",
       "      <th>suburb_lng</th>\n",
       "      <th>suburb_elevation</th>\n",
       "      <th>cash_rate</th>\n",
       "      <th>property_inflation_index</th>\n",
       "      <th>km_from_cbd</th>\n",
       "      <th>price_per_square</th>\n",
       "      <th>suburb_income_per_m2</th>\n",
       "      <th>price_k</th>\n",
       "      <th>year_sold</th>\n",
       "    </tr>\n",
       "  </thead>\n",
       "  <tbody>\n",
       "    <tr>\n",
       "      <th>8214</th>\n",
       "      <td>60000000</td>\n",
       "      <td>2021-03-10</td>\n",
       "      <td>Kurraba Point</td>\n",
       "      <td>20</td>\n",
       "      <td>29</td>\n",
       "      <td>19</td>\n",
       "      <td>4240</td>\n",
       "      <td>House</td>\n",
       "      <td>1521</td>\n",
       "      <td>81744</td>\n",
       "      <td>...</td>\n",
       "      <td>-33.84211</td>\n",
       "      <td>151.2228</td>\n",
       "      <td>26</td>\n",
       "      <td>0.1</td>\n",
       "      <td>197.9</td>\n",
       "      <td>2.82</td>\n",
       "      <td>14150.9</td>\n",
       "      <td>347.8</td>\n",
       "      <td>60000.0</td>\n",
       "      <td>2021</td>\n",
       "    </tr>\n",
       "  </tbody>\n",
       "</table>\n",
       "<p>1 rows × 21 columns</p>\n",
       "</div>"
      ],
      "text/plain": [
       "         price  date_sold         suburb  num_bath  num_bed  num_parking  \\\n",
       "8214  60000000 2021-03-10  Kurraba Point        20       29           19   \n",
       "\n",
       "      property_size   type  suburb_population  suburb_median_income  ...  \\\n",
       "8214           4240  House               1521                 81744  ...   \n",
       "\n",
       "      suburb_lat  suburb_lng  suburb_elevation  cash_rate  \\\n",
       "8214   -33.84211    151.2228                26        0.1   \n",
       "\n",
       "      property_inflation_index  km_from_cbd  price_per_square  \\\n",
       "8214                     197.9         2.82           14150.9   \n",
       "\n",
       "      suburb_income_per_m2  price_k  year_sold  \n",
       "8214                 347.8  60000.0       2021  \n",
       "\n",
       "[1 rows x 21 columns]"
      ]
     },
     "execution_count": 12,
     "metadata": {},
     "output_type": "execute_result"
    }
   ],
   "source": [
    "sns.boxplot(x=domain_df['price_k'])\n",
    "plt.show()\n",
    "domain_df[domain_df['price_k']>50000]"
   ]
  },
  {
   "cell_type": "code",
   "execution_count": 13,
   "id": "cc1adcf6",
   "metadata": {
    "execution": {
     "iopub.execute_input": "2024-05-06T15:59:03.616847Z",
     "iopub.status.busy": "2024-05-06T15:59:03.616412Z",
     "iopub.status.idle": "2024-05-06T15:59:05.079394Z",
     "shell.execute_reply": "2024-05-06T15:59:05.078149Z"
    },
    "papermill": {
     "duration": 1.478294,
     "end_time": "2024-05-06T15:59:05.082067",
     "exception": false,
     "start_time": "2024-05-06T15:59:03.603773",
     "status": "completed"
    },
    "tags": []
   },
   "outputs": [
    {
     "name": "stderr",
     "output_type": "stream",
     "text": [
      "/opt/conda/lib/python3.10/site-packages/seaborn/_oldcore.py:1119: FutureWarning: use_inf_as_na option is deprecated and will be removed in a future version. Convert inf values to NaN before operating instead.\n",
      "  with pd.option_context('mode.use_inf_as_na', True):\n",
      "/opt/conda/lib/python3.10/site-packages/seaborn/_oldcore.py:1119: FutureWarning: use_inf_as_na option is deprecated and will be removed in a future version. Convert inf values to NaN before operating instead.\n",
      "  with pd.option_context('mode.use_inf_as_na', True):\n"
     ]
    },
    {
     "data": {
      "image/png": "[encoded data removed]",
      "text/plain": [
       "<Figure size 1000x200 with 1 Axes>"
      ]
     },
     "metadata": {},
     "output_type": "display_data"
    },
    {
     "data": {
      "image/png": "[encoded data removed]",
      "text/plain": [
       "<Figure size 1000x200 with 1 Axes>"
      ]
     },
     "metadata": {},
     "output_type": "display_data"
    },
    {
     "name": "stderr",
     "output_type": "stream",
     "text": [
      "/opt/conda/lib/python3.10/site-packages/seaborn/_oldcore.py:1119: FutureWarning: use_inf_as_na option is deprecated and will be removed in a future version. Convert inf values to NaN before operating instead.\n",
      "  with pd.option_context('mode.use_inf_as_na', True):\n"
     ]
    },
    {
     "data": {
      "image/png": "[encoded data removed]",
      "text/plain": [
       "<Figure size 1000x200 with 1 Axes>"
      ]
     },
     "metadata": {},
     "output_type": "display_data"
    }
   ],
   "source": [
    "#Handling outlier of data in house type\n",
    "plt.figure(figsize=(10, 2))\n",
    "plt.subplot(1, 2, 1)\n",
    "sns.histplot(house_category['num_bed'], bins=20, kde=True)\n",
    "plt.title('Distribution of number of beds in House')\n",
    "\n",
    "plt.figure(figsize=(10, 2))\n",
    "plt.subplot(1, 2,2)\n",
    "sns.histplot(house_category['num_bath'], bins=20, kde=True)\n",
    "plt.title('Distribution of number of baths in House')\n",
    "plt.show()\n",
    "\n",
    "plt.figure(figsize=(10, 2))\n",
    "plt.subplot(1, 2,2)\n",
    "sns.histplot(house_category['num_parking'], bins=20, kde=True)\n",
    "plt.title('Distribution of number of parkings in House')\n",
    "plt.show()"
   ]
  },
  {
   "cell_type": "markdown",
   "id": "3af7a451",
   "metadata": {
    "papermill": {
     "duration": 0.011088,
     "end_time": "2024-05-06T15:59:05.105810",
     "exception": false,
     "start_time": "2024-05-06T15:59:05.094722",
     "status": "completed"
    },
    "tags": []
   },
   "source": [
    "Most data distribured in range (0,10) for number of bedroom and number of parking.And (0,8) for bathromms"
   ]
  },
  {
   "cell_type": "markdown",
   "id": "ad2f8840",
   "metadata": {
    "papermill": {
     "duration": 0.010896,
     "end_time": "2024-05-06T15:59:05.127940",
     "exception": false,
     "start_time": "2024-05-06T15:59:05.117044",
     "status": "completed"
    },
    "tags": []
   },
   "source": []
  }
 ],
 "metadata": {
  "kaggle": {
   "accelerator": "none",
   "dataSources": [
    {
     "datasetId": 1889316,
     "sourceId": 3091568,
     "sourceType": "datasetVersion"
    }
   ],
   "dockerImageVersionId": 30698,
   "isGpuEnabled": false,
   "isInternetEnabled": false,
   "language": "python",
   "sourceType": "notebook"
  },
  "kernelspec": {
   "display_name": "Python 3",
   "language": "python",
   "name": "python3"
  },
  "language_info": {
   "codemirror_mode": {
    "name": "ipython",
    "version": 3
   },
   "file_extension": ".py",
   "mimetype": "text/x-python",
   "name": "python",
   "nbconvert_exporter": "python",
   "pygments_lexer": "ipython3",
   "version": "3.10.13"
  },
  "papermill": {
   "default_parameters": {},
   "duration": 11.070719,
   "end_time": "2024-05-06T15:59:05.861945",
   "environment_variables": {},
   "exception": null,
   "input_path": "__notebook__.ipynb",
   "output_path": "__notebook__.ipynb",
   "parameters": {},
   "start_time": "2024-05-06T15:58:54.791226",
   "version": "2.5.0"
  }
 },
 "nbformat": 4,
 "nbformat_minor": 5
}
